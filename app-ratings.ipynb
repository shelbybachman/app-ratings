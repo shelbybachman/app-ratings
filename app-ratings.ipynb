{
 "cells": [
  {
   "cell_type": "markdown",
   "metadata": {},
   "source": [
    "# Analyzing Popular Android & iOS Apps"
   ]
  },
  {
   "cell_type": "markdown",
   "metadata": {},
   "source": [
    "In this project, I will analyze usage data from 17,000+ apps on the Google Play and Apple iOS App Stores, to understand what types of apps are likely to attract the most users.\n",
    "\n",
    "Datasets used:\n",
    "- Android app data from the Google Play store: [link](https://dq-content.s3.amazonaws.com/350/googleplaystore.csv)\n",
    "- iOS data from the Apple App Store: [link](https://dq-content.s3.amazonaws.com/350/AppleStore.csv)"
   ]
  },
  {
   "cell_type": "markdown",
   "metadata": {},
   "source": [
    "## Setup"
   ]
  },
  {
   "cell_type": "code",
   "execution_count": 1,
   "metadata": {},
   "outputs": [],
   "source": [
    "import numpy as np\n",
    "import pandas as pd"
   ]
  },
  {
   "cell_type": "markdown",
   "metadata": {},
   "source": [
    "## Load the data"
   ]
  },
  {
   "cell_type": "markdown",
   "metadata": {},
   "source": [
    "First, I load the data. I create a function to load each dataset from its respective URL as a list of lists:"
   ]
  },
  {
   "cell_type": "code",
   "execution_count": 2,
   "metadata": {},
   "outputs": [],
   "source": [
    "def load_data_from_url(url):\n",
    "    df = pd.read_csv(url)\n",
    "    a = df.columns.values.tolist()  # column row\n",
    "    b = df.values.tolist()  # body rows\n",
    "    b.insert(0, a)  # add column row as first element of list\n",
    "    return b"
   ]
  },
  {
   "cell_type": "markdown",
   "metadata": {},
   "source": [
    "I use this function to load each dataset:"
   ]
  },
  {
   "cell_type": "code",
   "execution_count": 3,
   "metadata": {},
   "outputs": [],
   "source": [
    "data_android = load_data_from_url('https://dq-content.s3.amazonaws.com/350/googleplaystore.csv')\n",
    "data_ios = load_data_from_url('https://dq-content.s3.amazonaws.com/350/AppleStore.csv')"
   ]
  },
  {
   "cell_type": "markdown",
   "metadata": {},
   "source": [
    "## Explore the data"
   ]
  },
  {
   "cell_type": "markdown",
   "metadata": {},
   "source": [
    "Next, I define a function to explore each dataset. This function returns a slice of a given dataset, taking several parameters:\n",
    "\n",
    "- `dataset`: dataset of interest, as a list of lists\n",
    "- `start`, `end`: start and end integer indices of desired slice from the dataset\n",
    "- `rows_and_columns`: boolean indicating whether to return number of rows and columns in the dataset"
   ]
  },
  {
   "cell_type": "code",
   "execution_count": 4,
   "metadata": {},
   "outputs": [],
   "source": [
    "def explore_data(dataset, start, end, rows_and_columns=False):\n",
    "    for row in dataset[start:end]:\n",
    "        print(row)\n",
    "        print('\\n')\n",
    "    if rows_and_columns:\n",
    "        print('Number of rows: ', len(dataset))\n",
    "        print('Number of columns: ', len(dataset[0]))"
   ]
  },
  {
   "cell_type": "markdown",
   "metadata": {},
   "source": [
    "Now I use this function to preview the first 2 rows of each dataset:"
   ]
  },
  {
   "cell_type": "code",
   "execution_count": 5,
   "metadata": {
    "scrolled": true
   },
   "outputs": [
    {
     "name": "stdout",
     "output_type": "stream",
     "text": [
      "['App', 'Category', 'Rating', 'Reviews', 'Size', 'Installs', 'Type', 'Price', 'Content Rating', 'Genres', 'Last Updated', 'Current Ver', 'Android Ver']\n",
      "\n",
      "\n",
      "['Photo Editor & Candy Camera & Grid & ScrapBook', 'ART_AND_DESIGN', 4.1, '159', '19M', '10,000+', 'Free', '0', 'Everyone', 'Art & Design', 'January 7, 2018', '1.0.0', '4.0.3 and up']\n",
      "\n",
      "\n",
      "Number of rows:  10842\n",
      "Number of columns:  13\n",
      "None\n"
     ]
    }
   ],
   "source": [
    "# preview android app data\n",
    "print(explore_data(data_android, 0, 2, rows_and_columns=True))"
   ]
  },
  {
   "cell_type": "code",
   "execution_count": 6,
   "metadata": {},
   "outputs": [
    {
     "name": "stdout",
     "output_type": "stream",
     "text": [
      "['id', 'track_name', 'size_bytes', 'currency', 'price', 'rating_count_tot', 'rating_count_ver', 'user_rating', 'user_rating_ver', 'ver', 'cont_rating', 'prime_genre', 'sup_devices.num', 'ipadSc_urls.num', 'lang.num', 'vpp_lic']\n",
      "\n",
      "\n",
      "[284882215, 'Facebook', 389879808, 'USD', 0.0, 2974676, 212, 3.5, 3.5, '95.0', '4+', 'Social Networking', 37, 1, 29, 1]\n",
      "\n",
      "\n",
      "Number of rows:  7198\n",
      "Number of columns:  16\n",
      "None\n"
     ]
    }
   ],
   "source": [
    "# preview iOS app data\n",
    "print(explore_data(data_ios, 0, 2, rows_and_columns=True))"
   ]
  },
  {
   "cell_type": "markdown",
   "metadata": {},
   "source": [
    "As expected, the first row of each dataset correctly contains the column names. We have data from more than 17000 apps, and the data includes metrics on app ratings, price, genre and more."
   ]
  },
  {
   "cell_type": "markdown",
   "metadata": {},
   "source": [
    "## Clean the data"
   ]
  },
  {
   "cell_type": "markdown",
   "metadata": {},
   "source": [
    "### Removing incorrect data"
   ]
  },
  {
   "cell_type": "markdown",
   "metadata": {},
   "source": [
    "Next, we remove incorrect data; specifically, there was one row in the Google Play store data that had an invalid entry for the `Reviews` column (see discussion [here](https://www.kaggle.com/lava18/google-play-store-apps/discussion/66015)). Specifically, in this row, the review value couldn't be converted to a `float`. So we check for rows where that could be the case and delete accordingly:"
   ]
  },
  {
   "cell_type": "code",
   "execution_count": 7,
   "metadata": {},
   "outputs": [
    {
     "name": "stdout",
     "output_type": "stream",
     "text": [
      "Could not convert string to float for row with index: 10472\n"
     ]
    }
   ],
   "source": [
    "for i, row in enumerate(data_android[1:]):\n",
    "    try: \n",
    "        float(row[3])\n",
    "    except:\n",
    "        print('Could not convert string to float for row with index: ' + str(i))\n",
    "        index_to_del = i+1  # +1 accounts for missing header"
   ]
  },
  {
   "cell_type": "code",
   "execution_count": 8,
   "metadata": {},
   "outputs": [],
   "source": [
    "del data_android[index_to_del]"
   ]
  },
  {
   "cell_type": "markdown",
   "metadata": {},
   "source": [
    "### Removing duplicates"
   ]
  },
  {
   "cell_type": "markdown",
   "metadata": {},
   "source": [
    "We first identify cases where an app appears more than once:"
   ]
  },
  {
   "cell_type": "code",
   "execution_count": 9,
   "metadata": {},
   "outputs": [],
   "source": [
    "duplicate_apps = []\n",
    "unique_apps = []\n",
    "\n",
    "# build list of unique and duplicate app names\n",
    "for row in data_android[1:]:\n",
    "    app_name = row[0]\n",
    "    if app_name in unique_apps:\n",
    "        duplicate_apps.append(app_name)\n",
    "    else:\n",
    "        unique_apps.append(app_name)   \n",
    "        \n",
    "# print the number of duplicates\n",
    "print('Identified ' + str(len(duplicate_apps)) + ' duplicate app names...')"
   ]
  },
  {
   "cell_type": "markdown",
   "metadata": {},
   "source": [
    "Taking a look at one of these duplicate cases, we can see that they are identical apart from the column indicating number of reviews, likely because the entries occurred at different points in time:"
   ]
  },
  {
   "cell_type": "code",
   "execution_count": 11,
   "metadata": {},
   "outputs": [
    {
     "name": "stdout",
     "output_type": "stream",
     "text": [
      "['Google Ads', 'BUSINESS', 4.3, '29313', '20M', '5,000,000+', 'Free', '0', 'Everyone', 'Business', 'July 30, 2018', '1.12.0', '4.0.3 and up']\n",
      "['Google Ads', 'BUSINESS', 4.3, '29313', '20M', '5,000,000+', 'Free', '0', 'Everyone', 'Business', 'July 30, 2018', '1.12.0', '4.0.3 and up']\n",
      "['Google Ads', 'BUSINESS', 4.3, '29331', '20M', '5,000,000+', 'Free', '0', 'Everyone', 'Business', 'July 30, 2018', '1.12.0', '4.0.3 and up']\n"
     ]
    }
   ],
   "source": [
    "duplicate_apps[7]\n",
    "for row in data_android[1:]:\n",
    "    if row[0] == duplicate_apps[7]:\n",
    "        print(row)"
   ]
  },
  {
   "cell_type": "markdown",
   "metadata": {},
   "source": [
    "So we decide to keep only the row with the highest number of reviews for each duplicate. To do this, we create a dictionary containing each unique app name and its highest number of recorded reviews:"
   ]
  },
  {
   "cell_type": "code",
   "execution_count": 20,
   "metadata": {},
   "outputs": [
    {
     "data": {
      "text/plain": [
       "9659"
      ]
     },
     "execution_count": 20,
     "metadata": {},
     "output_type": "execute_result"
    }
   ],
   "source": [
    "reviews_max = {}\n",
    "for row in data_android[1:]:\n",
    "    app_name = row[0]\n",
    "    n_reviews = float(row[3])\n",
    "    if app_name in reviews_max:\n",
    "        if n_reviews > reviews_max[app_name]:\n",
    "            reviews_max[app_name] = n_reviews\n",
    "    else:\n",
    "        reviews_max[app_name] = n_reviews\n",
    "\n",
    "# number of non-duplicate entries\n",
    "print(len(reviews_max))"
   ]
  },
  {
   "cell_type": "markdown",
   "metadata": {},
   "source": [
    "We can now use this dictionary to remove duplicate rows, keeping rows with the highest number of ratings per app:"
   ]
  },
  {
   "cell_type": "code",
   "execution_count": 41,
   "metadata": {},
   "outputs": [
    {
     "name": "stdout",
     "output_type": "stream",
     "text": [
      "[['Photo Editor & Candy Camera & Grid & ScrapBook', 'ART_AND_DESIGN', 4.1, '159', '19M', '10,000+', 'Free', '0', 'Everyone', 'Art & Design', 'January 7, 2018', '1.0.0', '4.0.3 and up'], ['U Launcher Lite – FREE Live Cool Themes, Hide Apps', 'ART_AND_DESIGN', 4.7, '87510', '8.7M', '5,000,000+', 'Free', '0', 'Everyone', 'Art & Design', 'August 1, 2018', '1.2.4', '4.0.3 and up']]\n"
     ]
    }
   ],
   "source": [
    "android_clean = []\n",
    "already_added = []\n",
    "for row in data_android[1:]:\n",
    "    app_name = row[0]\n",
    "    n_reviews = float(row[3])\n",
    "    \n",
    "    # if number of reviews is equal to max reviews\n",
    "    # and app is not in already_added list\n",
    "    if n_reviews == reviews_max[app_name] and app_name not in already_added:\n",
    "        android_clean.append(row)\n",
    "        already_added.append(app_name)\n",
    "        \n",
    "# show preview of cleaned data\n",
    "print(android_clean[:2])"
   ]
  },
  {
   "cell_type": "markdown",
   "metadata": {},
   "source": [
    "We can also check if there are duplicates in the iOS app data, and we see that there are 0:"
   ]
  },
  {
   "cell_type": "code",
   "execution_count": 25,
   "metadata": {},
   "outputs": [
    {
     "name": "stdout",
     "output_type": "stream",
     "text": [
      "Identified 0 duplicate app names...\n"
     ]
    }
   ],
   "source": [
    "duplicate_apps = []\n",
    "unique_apps = []\n",
    "\n",
    "# build list of unique and duplicate app names\n",
    "for row in data_ios[1:]:\n",
    "    app_name = row[0]\n",
    "    if app_name in unique_apps:\n",
    "        duplicate_apps.append(app_name)\n",
    "    else:\n",
    "        unique_apps.append(app_name)\n",
    "        \n",
    "# print the number of duplicates\n",
    "print('Identified ' + str(len(duplicate_apps)) + ' duplicate app names...')"
   ]
  },
  {
   "cell_type": "markdown",
   "metadata": {},
   "source": [
    "## Filter the data"
   ]
  },
  {
   "cell_type": "markdown",
   "metadata": {},
   "source": [
    "### Removing non-English apps"
   ]
  },
  {
   "cell_type": "markdown",
   "metadata": {},
   "source": [
    "To filter to include apps designed for an English-speaking audience, we need to remove apps containing characters not commonly used in English text. We do this by creating a function that checks a string for such characters, and then apply that function:"
   ]
  },
  {
   "cell_type": "code",
   "execution_count": 26,
   "metadata": {},
   "outputs": [
    {
     "name": "stdout",
     "output_type": "stream",
     "text": [
      "True\n",
      "False\n",
      "False\n"
     ]
    }
   ],
   "source": [
    "def is_english(a_string):\n",
    "    for char in a_string:\n",
    "        if ord(char) > 127:\n",
    "            return False\n",
    "    return True\n",
    "\n",
    "# check that the function works\n",
    "print(is_english('Instagram'))\n",
    "print(is_english('Docs To Go™ Free Office Suite'))\n",
    "print(is_english('Instachat 😜'))"
   ]
  },
  {
   "cell_type": "markdown",
   "metadata": {},
   "source": [
    "We can see that emojis and the trademark symbol are marked as characters not commonly used in English. Therefore, we apply the following criterion to remove apps: all apps with 3 or more non-English characters are removed. We update the function accordingly:"
   ]
  },
  {
   "cell_type": "code",
   "execution_count": 45,
   "metadata": {},
   "outputs": [
    {
     "name": "stdout",
     "output_type": "stream",
     "text": [
      "True\n",
      "True\n",
      "True\n"
     ]
    }
   ],
   "source": [
    "def is_english(a_string):\n",
    "    tally = 0\n",
    "    for char in a_string:\n",
    "        if ord(char) > 127:\n",
    "            tally += 1\n",
    "    \n",
    "    if tally >= 3:\n",
    "        return False\n",
    "    else:\n",
    "        return True\n",
    "    \n",
    "# check that the updated function works\n",
    "print(is_english('Instagram'))\n",
    "print(is_english('Docs To Go™ Free Office Suite'))\n",
    "print(is_english('Instachat 😜'))"
   ]
  },
  {
   "cell_type": "markdown",
   "metadata": {},
   "source": [
    "And then we apply the function to each dataset, creating a new list of lists for each dataset containing only app names with characters common in English text:"
   ]
  },
  {
   "cell_type": "code",
   "execution_count": 48,
   "metadata": {},
   "outputs": [
    {
     "name": "stdout",
     "output_type": "stream",
     "text": [
      "Number of entries in filtered Android app data: 9597\n"
     ]
    }
   ],
   "source": [
    "# apply function to android data:\n",
    "android_filt = []\n",
    "for row in android_clean:\n",
    "    app_name = row[0]\n",
    "    if is_english(app_name):\n",
    "        android_filt.append(row)\n",
    "        \n",
    "print('Number of entries in filtered Android app data: ' + str(len(android_filt)))"
   ]
  },
  {
   "cell_type": "code",
   "execution_count": 52,
   "metadata": {},
   "outputs": [
    {
     "name": "stdout",
     "output_type": "stream",
     "text": [
      "Number of entries in filtered iOS app data: 6156\n"
     ]
    }
   ],
   "source": [
    "# apply function to iOS data:\n",
    "ios_filt = []\n",
    "for row in data_ios:\n",
    "    app_name = row[1]\n",
    "    if is_english(app_name):\n",
    "        ios_filt.append(row)\n",
    "        \n",
    "print('Number of entries in filtered iOS app data: ' + str(len(ios_filt)))"
   ]
  },
  {
   "cell_type": "markdown",
   "metadata": {},
   "source": [
    "### Removing non-free apps"
   ]
  },
  {
   "cell_type": "markdown",
   "metadata": {},
   "source": [
    "In addition, we only want to examine free apps. To remove apps that are not free from each dataset, we find rows where the app price is 0, and create new datasets with only those rows:"
   ]
  },
  {
   "cell_type": "code",
   "execution_count": 81,
   "metadata": {},
   "outputs": [
    {
     "name": "stdout",
     "output_type": "stream",
     "text": [
      "Number of entries in final Android app data: 8848\n"
     ]
    }
   ],
   "source": [
    "# only include free apps from android data\n",
    "android_free = []\n",
    "for row in android_filt:\n",
    "    # in android data, prices are strings with $\n",
    "    # so this step removes the $\n",
    "    price = row[7].replace('$', '')\n",
    "    price = float(price)\n",
    "    if price == 0:\n",
    "        android_free.append(row)\n",
    "        \n",
    "print('Number of entries in final Android app data: ' + str(len(android_free)))"
   ]
  },
  {
   "cell_type": "code",
   "execution_count": 82,
   "metadata": {},
   "outputs": [
    {
     "name": "stdout",
     "output_type": "stream",
     "text": [
      "Number of entries in final iOS app data: 3203\n"
     ]
    }
   ],
   "source": [
    "# only include free apps from iOS data\n",
    "ios_free = []\n",
    "for row in ios_filt:\n",
    "    # in iOS data, prices are already floats\n",
    "    price = row[4]\n",
    "    if price == 0:\n",
    "        ios_free.append(row)\n",
    "        \n",
    "print('Number of entries in final iOS app data: ' + str(len(ios_free)))"
   ]
  }
 ],
 "metadata": {
  "kernelspec": {
   "display_name": "Python 3 (ipykernel)",
   "language": "python",
   "name": "python3"
  },
  "language_info": {
   "codemirror_mode": {
    "name": "ipython",
    "version": 3
   },
   "file_extension": ".py",
   "mimetype": "text/x-python",
   "name": "python",
   "nbconvert_exporter": "python",
   "pygments_lexer": "ipython3",
   "version": "3.9.5"
  }
 },
 "nbformat": 4,
 "nbformat_minor": 2
}
